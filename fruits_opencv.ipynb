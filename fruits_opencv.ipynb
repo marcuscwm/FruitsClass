{
 "cells": [
  {
   "cell_type": "code",
   "execution_count": 1,
   "metadata": {},
   "outputs": [],
   "source": [
    "import numpy as np\n",
    "import tensorflow as tf\n",
    "import matplotlib.pyplot as plt\n",
    "import os\n",
    "import cv2\n",
    "import random"
   ]
  },
  {
   "cell_type": "code",
   "execution_count": 2,
   "metadata": {},
   "outputs": [],
   "source": [
    "train_path = 'train'\n",
    "test_path = 'test'\n",
    "resol = 64"
   ]
  },
  {
   "cell_type": "markdown",
   "metadata": {},
   "source": [
    "## Processing the images"
   ]
  },
  {
   "cell_type": "code",
   "execution_count": 3,
   "metadata": {},
   "outputs": [
    {
     "name": "stdout",
     "output_type": "stream",
     "text": [
      "apple count: 75\n",
      "banana count: 71\n",
      "orange count: 72\n",
      "mixed count: 22\n",
      "(240, 64, 64, 3)\n"
     ]
    }
   ],
   "source": [
    "def process(img_path, resol):\n",
    "    fruits = ['apple', 'banana', 'orange', 'mixed']\n",
    "    one_hot = {\n",
    "        'apple': [1, 0, 0, 0],\n",
    "        'banana': [0, 1, 0, 0],\n",
    "        'orange': [0, 0, 1, 0],\n",
    "        'mixed': [0, 0, 0, 1]}\n",
    "\n",
    "    train_label = []\n",
    "\n",
    "    for fruit in fruits:\n",
    "        count = 0\n",
    "        for file_name in os.listdir(img_path):\n",
    "            if file_name[0:len(fruit)] == fruit:\n",
    "                img_raw = cv2.imread(img_path + '/' + file_name)\n",
    "                img_rbg = cv2.cvtColor(img_raw, cv2.COLOR_BGR2RGB)\n",
    "                img_tiny = cv2.resize(img_rbg, (resol, resol))\n",
    "                train_label.append([img_tiny, one_hot[fruit]])\n",
    "                count += 1\n",
    "\n",
    "        print(f'{fruit} count: {count}')\n",
    "\n",
    "    random.shuffle(train_label)\n",
    "    \n",
    "    x_train = [i[0] for i in train_label]\n",
    "    y_train = [i[1] for i in train_label]\n",
    "\n",
    "    return np.array(x_train), np.array(y_train)\n",
    "\n",
    "\n",
    "x_train, y_train = process(train_path, resol)\n",
    "print(x_train.shape)"
   ]
  },
  {
   "cell_type": "code",
   "execution_count": 4,
   "metadata": {},
   "outputs": [
    {
     "name": "stderr",
     "output_type": "stream",
     "text": [
      "c:\\Users\\Marcus\\anaconda3\\envs\\tensor\\lib\\site-packages\\matplotlib\\text.py:1223: FutureWarning: elementwise comparison failed; returning scalar instead, but in the future will perform elementwise comparison\n",
      "  if s != self._text:\n"
     ]
    },
    {
     "data": {
      "image/png": "[encoded data removed]",
      "text/plain": [
       "<Figure size 864x432 with 2 Axes>"
      ]
     },
     "metadata": {
      "needs_background": "light"
     },
     "output_type": "display_data"
    }
   ],
   "source": [
    "fig, ax = plt.subplots(nrows=1, ncols=2, figsize=(12, 6))\n",
    "\n",
    "ax[0].imshow(x_train[0])\n",
    "ax[0].set_title(y_train[0])\n",
    "ax[1].imshow(x_train[100])\n",
    "ax[1].set_title(y_train[100])\n",
    "\n",
    "plt.show()"
   ]
  },
  {
   "cell_type": "markdown",
   "metadata": {},
   "source": [
    "## Construct CNN model"
   ]
  },
  {
   "cell_type": "code",
   "execution_count": 5,
   "metadata": {},
   "outputs": [
    {
     "name": "stdout",
     "output_type": "stream",
     "text": [
      "Model: \"sequential\"\n",
      "_________________________________________________________________\n",
      " Layer (type)                Output Shape              Param #   \n",
      "=================================================================\n",
      " conv2d (Conv2D)             (None, 64, 64, 30)        840       \n",
      "                                                                 \n",
      " max_pooling2d (MaxPooling2D  (None, 32, 32, 30)       0         \n",
      " )                                                               \n",
      "                                                                 \n",
      " conv2d_1 (Conv2D)           (None, 32, 32, 30)        8130      \n",
      "                                                                 \n",
      " max_pooling2d_1 (MaxPooling  (None, 16, 16, 30)       0         \n",
      " 2D)                                                             \n",
      "                                                                 \n",
      " conv2d_2 (Conv2D)           (None, 16, 16, 30)        8130      \n",
      "                                                                 \n",
      " max_pooling2d_2 (MaxPooling  (None, 8, 8, 30)         0         \n",
      " 2D)                                                             \n",
      "                                                                 \n",
      " conv2d_3 (Conv2D)           (None, 8, 8, 30)          8130      \n",
      "                                                                 \n",
      " max_pooling2d_3 (MaxPooling  (None, 4, 4, 30)         0         \n",
      " 2D)                                                             \n",
      "                                                                 \n",
      " flatten (Flatten)           (None, 480)               0         \n",
      "                                                                 \n",
      " dense (Dense)               (None, 200)               96200     \n",
      "                                                                 \n",
      " dropout (Dropout)           (None, 200)               0         \n",
      "                                                                 \n",
      " dense_1 (Dense)             (None, 100)               20100     \n",
      "                                                                 \n",
      " dropout_1 (Dropout)         (None, 100)               0         \n",
      "                                                                 \n",
      " dense_2 (Dense)             (None, 4)                 404       \n",
      "                                                                 \n",
      "=================================================================\n",
      "Total params: 141,934\n",
      "Trainable params: 141,934\n",
      "Non-trainable params: 0\n",
      "_________________________________________________________________\n"
     ]
    }
   ],
   "source": [
    "model = tf.keras.Sequential()\n",
    "\n",
    "model.add(tf.keras.layers.Conv2D(filters=30,\n",
    "                                 kernel_size=(3, 3),\n",
    "                                 padding='same',\n",
    "                                 activation='relu',\n",
    "                                 input_shape=(resol, resol, 3)))\n",
    "model.add(tf.keras.layers.MaxPooling2D(pool_size=(2, 2)))                                 \n",
    "model.add(tf.keras.layers.Conv2D(filters=30,\n",
    "                                 kernel_size=(3, 3),\n",
    "                                 padding='same',\n",
    "                                 activation='relu'))\n",
    "model.add(tf.keras.layers.MaxPooling2D(pool_size=(2, 2)))\n",
    "model.add(tf.keras.layers.Conv2D(filters=30,\n",
    "                                 kernel_size=(3, 3),\n",
    "                                 padding='same',\n",
    "                                 activation='relu'))\n",
    "model.add(tf.keras.layers.MaxPooling2D(pool_size=(2, 2)))\n",
    "model.add(tf.keras.layers.Conv2D(filters=30,\n",
    "                                 kernel_size=(3, 3),\n",
    "                                 padding='same',\n",
    "                                 activation='relu'))\n",
    "model.add(tf.keras.layers.MaxPooling2D(pool_size=(2, 2)))\n",
    "\n",
    "model.add(tf.keras.layers.Flatten())\n",
    "\n",
    "model.add(tf.keras.layers.Dense(units=200, activation='relu'))\n",
    "model.add(tf.keras.layers.Dropout(rate=0.4))\n",
    "model.add(tf.keras.layers.Dense(units=100, activation='relu'))\n",
    "model.add(tf.keras.layers.Dropout(rate=0.4))\n",
    "model.add(tf.keras.layers.Dense(units=4, activation='softmax'))\n",
    "\n",
    "model.compile(loss='categorical_crossentropy',\n",
    "              optimizer='adam', metrics=['accuracy'])\n",
    "\n",
    "model.summary()"
   ]
  },
  {
   "cell_type": "markdown",
   "metadata": {},
   "source": [
    "## Train model"
   ]
  },
  {
   "cell_type": "code",
   "execution_count": 6,
   "metadata": {},
   "outputs": [],
   "source": [
    "# datagen = tf.keras.preprocessing.image.ImageDataGenerator(\n",
    "#     rotation_range=20, fill_mode='nearest',\n",
    "#     width_shift_range=0.2,\n",
    "#     height_shift_range=0.2,\n",
    "#     horizontal_flip=False,\n",
    "#     vertical_flip=False,\n",
    "#     zoom_range=0.2)\n",
    "\n",
    "# hist = model.fit(datagen.flow(x_train/255, y_train, seed=1), batch_size=30, epochs=50, shuffle=True, verbose=2)"
   ]
  },
  {
   "cell_type": "code",
   "execution_count": 7,
   "metadata": {},
   "outputs": [
    {
     "name": "stdout",
     "output_type": "stream",
     "text": [
      "Epoch 1/25\n",
      "8/8 - 8s - loss: 1.3773 - accuracy: 0.2875 - 8s/epoch - 1s/step\n",
      "Epoch 2/25\n",
      "8/8 - 0s - loss: 1.3274 - accuracy: 0.3042 - 158ms/epoch - 20ms/step\n",
      "Epoch 3/25\n",
      "8/8 - 0s - loss: 1.3059 - accuracy: 0.3792 - 138ms/epoch - 17ms/step\n",
      "Epoch 4/25\n",
      "8/8 - 0s - loss: 1.2836 - accuracy: 0.3958 - 92ms/epoch - 12ms/step\n",
      "Epoch 5/25\n",
      "8/8 - 0s - loss: 1.2115 - accuracy: 0.4833 - 96ms/epoch - 12ms/step\n",
      "Epoch 6/25\n",
      "8/8 - 0s - loss: 1.0312 - accuracy: 0.6083 - 96ms/epoch - 12ms/step\n",
      "Epoch 7/25\n",
      "8/8 - 0s - loss: 0.8442 - accuracy: 0.6708 - 96ms/epoch - 12ms/step\n",
      "Epoch 8/25\n",
      "8/8 - 0s - loss: 0.7261 - accuracy: 0.7083 - 99ms/epoch - 12ms/step\n",
      "Epoch 9/25\n",
      "8/8 - 0s - loss: 0.7076 - accuracy: 0.7083 - 105ms/epoch - 13ms/step\n",
      "Epoch 10/25\n",
      "8/8 - 0s - loss: 0.5677 - accuracy: 0.8042 - 131ms/epoch - 16ms/step\n",
      "Epoch 11/25\n",
      "8/8 - 0s - loss: 0.4752 - accuracy: 0.8500 - 99ms/epoch - 12ms/step\n",
      "Epoch 12/25\n",
      "8/8 - 0s - loss: 0.3625 - accuracy: 0.8750 - 92ms/epoch - 11ms/step\n",
      "Epoch 13/25\n",
      "8/8 - 0s - loss: 0.4390 - accuracy: 0.8292 - 91ms/epoch - 11ms/step\n",
      "Epoch 14/25\n",
      "8/8 - 0s - loss: 0.3789 - accuracy: 0.8583 - 93ms/epoch - 12ms/step\n",
      "Epoch 15/25\n",
      "8/8 - 0s - loss: 0.2860 - accuracy: 0.9083 - 96ms/epoch - 12ms/step\n",
      "Epoch 16/25\n",
      "8/8 - 0s - loss: 0.2178 - accuracy: 0.9333 - 109ms/epoch - 14ms/step\n",
      "Epoch 17/25\n",
      "8/8 - 0s - loss: 0.2302 - accuracy: 0.9208 - 101ms/epoch - 13ms/step\n",
      "Epoch 18/25\n",
      "8/8 - 0s - loss: 0.2557 - accuracy: 0.8958 - 86ms/epoch - 11ms/step\n",
      "Epoch 19/25\n",
      "8/8 - 0s - loss: 0.1865 - accuracy: 0.9458 - 98ms/epoch - 12ms/step\n",
      "Epoch 20/25\n",
      "8/8 - 0s - loss: 0.2323 - accuracy: 0.9125 - 100ms/epoch - 13ms/step\n",
      "Epoch 21/25\n",
      "8/8 - 0s - loss: 0.1817 - accuracy: 0.9458 - 95ms/epoch - 12ms/step\n",
      "Epoch 22/25\n",
      "8/8 - 0s - loss: 0.1590 - accuracy: 0.9417 - 101ms/epoch - 13ms/step\n",
      "Epoch 23/25\n",
      "8/8 - 0s - loss: 0.1775 - accuracy: 0.9292 - 94ms/epoch - 12ms/step\n",
      "Epoch 24/25\n",
      "8/8 - 0s - loss: 0.1140 - accuracy: 0.9583 - 88ms/epoch - 11ms/step\n",
      "Epoch 25/25\n",
      "8/8 - 0s - loss: 0.1675 - accuracy: 0.9417 - 91ms/epoch - 11ms/step\n"
     ]
    }
   ],
   "source": [
    "hist = model.fit(x_train/255, y_train, batch_size=30, epochs=25, shuffle=True, verbose=2)"
   ]
  },
  {
   "cell_type": "markdown",
   "metadata": {},
   "source": [
    "## Test CNN model and perform evaluation"
   ]
  },
  {
   "cell_type": "code",
   "execution_count": 8,
   "metadata": {},
   "outputs": [
    {
     "name": "stdout",
     "output_type": "stream",
     "text": [
      "apple count: 19\n",
      "banana count: 18\n",
      "orange count: 18\n",
      "mixed count: 5\n",
      "2/2 [==============================] - 1s 75ms/step - loss: 0.3663 - accuracy: 0.9167\n",
      "loss = 0.36631903052330017\n",
      "accuracy = 0.9166666865348816\n"
     ]
    }
   ],
   "source": [
    "x_test, y_test = process(test_path, resol)\n",
    "\n",
    "loss, accuracy = model.evaluate(x=x_test/255, y=y_test)\n",
    "\n",
    "print('loss =', loss)\n",
    "print('accuracy =', accuracy)"
   ]
  },
  {
   "cell_type": "markdown",
   "metadata": {},
   "source": [
    "## Plot Loss & Accuracy"
   ]
  },
  {
   "cell_type": "code",
   "execution_count": 9,
   "metadata": {},
   "outputs": [
    {
     "data": {
      "image/png": "[encoded data removed]",
      "text/plain": [
       "<Figure size 864x432 with 2 Axes>"
      ]
     },
     "metadata": {
      "needs_background": "light"
     },
     "output_type": "display_data"
    }
   ],
   "source": [
    "fig, ax = plt.subplots(nrows=1, ncols=2, figsize=(12, 6))\n",
    "\n",
    "ax[0].plot(hist.history['loss'])\n",
    "ax[0].set_xlabel('Epochs')\n",
    "ax[0].set_ylabel('Loss')\n",
    "ax[0].set_title('Loss Curve')\n",
    "\n",
    "ax[1].plot(hist.history['accuracy'])\n",
    "ax[1].set_xlabel('Epochs')\n",
    "ax[1].set_ylabel('Accuracy')\n",
    "ax[1].set_title('Accuracy Curve')\n",
    "\n",
    "plt.show()"
   ]
  }
 ],
 "metadata": {
  "kernelspec": {
   "display_name": "Python 3.10.4 ('tensor')",
   "language": "python",
   "name": "python3"
  },
  "language_info": {
   "codemirror_mode": {
    "name": "ipython",
    "version": 3
   },
   "file_extension": ".py",
   "mimetype": "text/x-python",
   "name": "python",
   "nbconvert_exporter": "python",
   "pygments_lexer": "ipython3",
   "version": "3.10.4"
  },
  "orig_nbformat": 4,
  "vscode": {
   "interpreter": {
    "hash": "96845504926a8d021e58b6371ff469515e725546bd205dba92cf99770118b4ae"
   }
  }
 },
 "nbformat": 4,
 "nbformat_minor": 2
}
